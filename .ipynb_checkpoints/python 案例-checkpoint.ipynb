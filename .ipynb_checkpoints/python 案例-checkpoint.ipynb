{
 "cells": [
  {
   "cell_type": "code",
   "execution_count": 16,
   "metadata": {},
   "outputs": [],
   "source": [
    "import numpy as np\n",
    "import pandas as pd"
   ]
  },
  {
   "cell_type": "markdown",
   "metadata": {},
   "source": [
    "# 离散化和分箱\n",
    "1. pd.cut"
   ]
  },
  {
   "cell_type": "code",
   "execution_count": 86,
   "metadata": {},
   "outputs": [
    {
     "data": {
      "text/plain": [
       "14"
      ]
     },
     "execution_count": 86,
     "metadata": {},
     "output_type": "execute_result"
    }
   ],
   "source": [
    "ages = [12,20,22,25,27,21,23,37,31,61,45,41,32,100] # 不能为 Series\n",
    "bins = [-float('inf'),18,25,35,60,100,float('inf')]\n",
    "len(ages)"
   ]
  },
  {
   "cell_type": "code",
   "execution_count": 87,
   "metadata": {},
   "outputs": [
    {
     "data": {
      "text/plain": [
       "[[-100.0, 18.0), [18.0, 25.0), [18.0, 25.0), [25.0, 35.0), [25.0, 35.0), ..., [60.0, 100.0), [35.0, 60.0), [35.0, 60.0), [25.0, 35.0), [100.0, inf)]\n",
       "Length: 14\n",
       "Categories (6, interval[float64]): [[-100.0, 18.0) < [18.0, 25.0) < [25.0, 35.0) < [35.0, 60.0) < [60.0, 100.0) < [100.0, inf)]"
      ]
     },
     "execution_count": 87,
     "metadata": {},
     "output_type": "execute_result"
    }
   ],
   "source": [
    "cats = pd.cut(ages,bins,right=False)\n",
    "cats"
   ]
  },
  {
   "cell_type": "code",
   "execution_count": 88,
   "metadata": {},
   "outputs": [
    {
     "data": {
      "text/plain": [
       "array([0, 1, 1, 2, 2, 1, 1, 3, 2, 4, 3, 3, 2, 5], dtype=int8)"
      ]
     },
     "execution_count": 88,
     "metadata": {},
     "output_type": "execute_result"
    }
   ],
   "source": [
    "cats.codes"
   ]
  },
  {
   "cell_type": "code",
   "execution_count": 89,
   "metadata": {},
   "outputs": [
    {
     "data": {
      "text/plain": [
       "IntervalIndex([[-100.0, 18.0), [18.0, 25.0), [25.0, 35.0), [35.0, 60.0), [60.0, 100.0), [100.0, inf)]\n",
       "              closed='left',\n",
       "              dtype='interval[float64]')"
      ]
     },
     "execution_count": 89,
     "metadata": {},
     "output_type": "execute_result"
    }
   ],
   "source": [
    "cats.categories"
   ]
  },
  {
   "cell_type": "code",
   "execution_count": 90,
   "metadata": {},
   "outputs": [
    {
     "data": {
      "text/plain": [
       "[Interval(-100.0, 18.0, closed='left'),\n",
       " Interval(18.0, 25.0, closed='left'),\n",
       " Interval(18.0, 25.0, closed='left'),\n",
       " Interval(25.0, 35.0, closed='left'),\n",
       " Interval(25.0, 35.0, closed='left'),\n",
       " Interval(18.0, 25.0, closed='left'),\n",
       " Interval(18.0, 25.0, closed='left'),\n",
       " Interval(35.0, 60.0, closed='left'),\n",
       " Interval(25.0, 35.0, closed='left'),\n",
       " Interval(60.0, 100.0, closed='left'),\n",
       " Interval(35.0, 60.0, closed='left'),\n",
       " Interval(35.0, 60.0, closed='left'),\n",
       " Interval(25.0, 35.0, closed='left'),\n",
       " Interval(100.0, inf, closed='left')]"
      ]
     },
     "execution_count": 90,
     "metadata": {},
     "output_type": "execute_result"
    }
   ],
   "source": [
    "cats.tolist()"
   ]
  },
  {
   "cell_type": "code",
   "execution_count": 91,
   "metadata": {},
   "outputs": [
    {
     "data": {
      "text/plain": [
       "[25.0, 35.0)      4\n",
       "[18.0, 25.0)      4\n",
       "[35.0, 60.0)      3\n",
       "[100.0, inf)      1\n",
       "[60.0, 100.0)     1\n",
       "[-100.0, 18.0)    1\n",
       "dtype: int64"
      ]
     },
     "execution_count": 91,
     "metadata": {},
     "output_type": "execute_result"
    }
   ],
   "source": [
    "pd.value_counts(cats)"
   ]
  },
  {
   "cell_type": "markdown",
   "metadata": {},
   "source": [
    "## 返回下限序列"
   ]
  },
  {
   "cell_type": "code",
   "execution_count": 92,
   "metadata": {},
   "outputs": [
    {
     "data": {
      "text/plain": [
       "[-100.0, 18.0, 25.0, 35.0, 60.0, 100.0]"
      ]
     },
     "execution_count": 92,
     "metadata": {},
     "output_type": "execute_result"
    }
   ],
   "source": [
    "# 1. 取下限列表的 index\n",
    "label = [x.left for x in cats.categories]\n",
    "label"
   ]
  },
  {
   "cell_type": "code",
   "execution_count": 99,
   "metadata": {},
   "outputs": [
    {
     "data": {
      "text/plain": [
       "0   -100.0\n",
       "1     18.0\n",
       "dtype: float64"
      ]
     },
     "execution_count": 99,
     "metadata": {},
     "output_type": "execute_result"
    }
   ],
   "source": [
    "s = pd.Series([label[i] for i in cats.codes])\n",
    "s[:2]"
   ]
  },
  {
   "cell_type": "code",
   "execution_count": 95,
   "metadata": {},
   "outputs": [
    {
     "data": {
      "text/plain": [
       "[-100.0, 18.0, 18.0, 25.0, 25.0, ..., 60.0, 35.0, 35.0, 25.0, 100.0]\n",
       "Length: 14\n",
       "Categories (6, float64): [-100.0 < 18.0 < 25.0 < 35.0 < 60.0 < 100.0]"
      ]
     },
     "execution_count": 95,
     "metadata": {},
     "output_type": "execute_result"
    }
   ],
   "source": [
    "# 2. 用下限做 label\n",
    "cats = pd.cut(ages,bins,right=False,labels=label)\n",
    "cats"
   ]
  },
  {
   "cell_type": "code",
   "execution_count": 98,
   "metadata": {},
   "outputs": [
    {
     "data": {
      "text/plain": [
       "0   -100.0\n",
       "1     18.0\n",
       "dtype: float64"
      ]
     },
     "execution_count": 98,
     "metadata": {},
     "output_type": "execute_result"
    }
   ],
   "source": [
    "s = pd.Series(cats.tolist())\n",
    "s[:2]"
   ]
  },
  {
   "cell_type": "code",
   "execution_count": null,
   "metadata": {},
   "outputs": [],
   "source": []
  },
  {
   "cell_type": "markdown",
   "metadata": {},
   "source": [
    "2. qcut"
   ]
  },
  {
   "cell_type": "code",
   "execution_count": 25,
   "metadata": {},
   "outputs": [
    {
     "data": {
      "text/plain": [
       "[(-0.679, -0.0381], (-0.0381, 0.662], (0.662, 3.193], (-0.0381, 0.662], (-0.679, -0.0381], ..., (0.662, 3.193], (0.662, 3.193], (0.662, 3.193], (-0.0381, 0.662], (-2.979, -0.679]]\n",
       "Length: 1000\n",
       "Categories (4, interval[float64]): [(-2.979, -0.679] < (-0.679, -0.0381] < (-0.0381, 0.662] < (0.662, 3.193]]"
      ]
     },
     "execution_count": 25,
     "metadata": {},
     "output_type": "execute_result"
    }
   ],
   "source": [
    "data = np.random.randn(1000)\n",
    "# cats = pd.qcut(data,q=4) # 下同\n",
    "cats = pd.qcut(data,q=[0, .25, .5, .75, 1.],la)\n",
    "cats"
   ]
  },
  {
   "cell_type": "code",
   "execution_count": 26,
   "metadata": {},
   "outputs": [
    {
     "data": {
      "text/plain": [
       "array([1, 2, 3, 2, 1, 3, 2, 3, 1, 3], dtype=int8)"
      ]
     },
     "execution_count": 26,
     "metadata": {},
     "output_type": "execute_result"
    }
   ],
   "source": [
    "cats.codes[:10]"
   ]
  },
  {
   "cell_type": "code",
   "execution_count": 27,
   "metadata": {},
   "outputs": [
    {
     "data": {
      "text/plain": [
       "IntervalIndex([(-2.979, -0.679], (-0.679, -0.0381], (-0.0381, 0.662], (0.662, 3.193]]\n",
       "              closed='right',\n",
       "              dtype='interval[float64]')"
      ]
     },
     "execution_count": 27,
     "metadata": {},
     "output_type": "execute_result"
    }
   ],
   "source": [
    "cats.categories"
   ]
  },
  {
   "cell_type": "code",
   "execution_count": 28,
   "metadata": {},
   "outputs": [
    {
     "data": {
      "text/plain": [
       "(0.662, 3.193]       250\n",
       "(-0.0381, 0.662]     250\n",
       "(-0.679, -0.0381]    250\n",
       "(-2.979, -0.679]     250\n",
       "dtype: int64"
      ]
     },
     "execution_count": 28,
     "metadata": {},
     "output_type": "execute_result"
    }
   ],
   "source": [
    "pd.value_counts(cats)"
   ]
  },
  {
   "cell_type": "markdown",
   "metadata": {},
   "source": [
    "# pandas"
   ]
  },
  {
   "cell_type": "code",
   "execution_count": 109,
   "metadata": {},
   "outputs": [],
   "source": [
    "s = pd.Series(ages)\n",
    "s.name = 'age'"
   ]
  },
  {
   "cell_type": "code",
   "execution_count": 115,
   "metadata": {},
   "outputs": [
    {
     "data": {
      "text/plain": [
       "31    0.071429\n",
       "61    0.071429\n",
       "27    0.071429\n",
       "25    0.071429\n",
       "23    0.071429\n",
       "Name: age, dtype: float64"
      ]
     },
     "execution_count": 115,
     "metadata": {},
     "output_type": "execute_result"
    }
   ],
   "source": [
    "s.value_counts()[:5]/len(s)"
   ]
  },
  {
   "cell_type": "code",
   "execution_count": 116,
   "metadata": {},
   "outputs": [
    {
     "data": {
      "text/plain": [
       "198.12"
      ]
     },
     "execution_count": 116,
     "metadata": {},
     "output_type": "execute_result"
    }
   ],
   "source": [
    "200-1.88"
   ]
  },
  {
   "cell_type": "code",
   "execution_count": 122,
   "metadata": {},
   "outputs": [],
   "source": [
    "# 数据框 转 字典\n",
    "dict_country = data.set_index('project').T.to_dict('list')"
   ]
  },
  {
   "cell_type": "code",
   "execution_count": 2,
   "metadata": {},
   "outputs": [],
   "source": [
    "# 数据框 按 字典映射\n",
    "dt = {'建议通过': 0, '建议审核': 1, '建议拒绝': 2}"
   ]
  },
  {
   "cell_type": "code",
   "execution_count": null,
   "metadata": {},
   "outputs": [],
   "source": [
    "df[col].map(dt)"
   ]
  }
 ],
 "metadata": {
  "kernelspec": {
   "display_name": "Python 3",
   "language": "python",
   "name": "python3"
  },
  "language_info": {
   "codemirror_mode": {
    "name": "ipython",
    "version": 3
   },
   "file_extension": ".py",
   "mimetype": "text/x-python",
   "name": "python",
   "nbconvert_exporter": "python",
   "pygments_lexer": "ipython3",
   "version": "3.6.5"
  }
 },
 "nbformat": 4,
 "nbformat_minor": 2
}
