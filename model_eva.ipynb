{
 "cells": [
  {
   "cell_type": "code",
   "execution_count": 1,
   "metadata": {},
   "outputs": [],
   "source": [
    "from sklearn import svm, datasets\n",
    "from sklearn.model_selection import cross_val_score,cross_validate  # 交叉验证中的模型度量\n",
    "import numpy as np # 快速操作结构数组的工具\n",
    "import matplotlib.pyplot as plt  # 可视化绘制\n",
    "from sklearn.linear_model import LinearRegression  # 线性回归\n",
    "from sklearn.metrics import make_scorer\n",
    "from sklearn import metrics"
   ]
  },
  {
   "cell_type": "code",
   "execution_count": 2,
   "metadata": {},
   "outputs": [
    {
     "name": "stdout",
     "output_type": "stream",
     "text": [
      "=============================分类度量===============================\n"
     ]
    }
   ],
   "source": [
    "#  =============================分类度量===============================\n",
    "print('=============================分类度量===============================')\n",
    "iris = datasets.load_iris()  # 加载iris 数据集；用于分类问题\n",
    "X, y = iris.data, iris.target  # 150个样本，4个属性，3种分类"
   ]
  },
  {
   "cell_type": "code",
   "execution_count": 3,
   "metadata": {},
   "outputs": [
    {
     "name": "stdout",
     "output_type": "stream",
     "text": [
      "交叉验证度量： [0.98039216 0.96078431 0.97916667]\n"
     ]
    }
   ],
   "source": [
    "clf = svm.SVC(probability=True, random_state=0)\n",
    "\n",
    "# ===========================交叉验证获取度量=======================\n",
    "score = cross_val_score(clf, X, y, scoring='accuracy',cv=3)  # 默认进行三次交叉验证\n",
    "print('交叉验证度量：',score)"
   ]
  },
  {
   "cell_type": "code",
   "execution_count": null,
   "metadata": {},
   "outputs": [],
   "source": [
    "# ===========================自定义度量=======================\n",
    "\n",
    "# 自定义度量函数，输入为真实值和预测值\n",
    "def my_custom_loss_func(ground_truth, predictions):\n",
    "    diff = np.abs(ground_truth - predictions).max()\n",
    "    return np.log(1 + diff)\n",
    "\n",
    "loss  = make_scorer(my_custom_loss_func, greater_is_better=False) # 自定义度量对象。结果越小越好。greater_is_better设置为false，系统认为是损失函数，则会将计分函数取反\n",
    "score = make_scorer(my_custom_loss_func, greater_is_better=True) # 自定义度量对象。结果越大越好\n",
    "clf = svm.SVC()\n",
    "clf.fit(X, y)\n",
    "\n",
    "print(loss(clf,X,y)) # 对模型进行度量，系统会自动调用模型对输入进行预测，并和真实输出值进行比较，计算损失函数\n",
    "print(score(clf,X,y)) # 对模型进行度量，系统会自动调用模型对输入进行预测，并和真实输出值进行比较，计算得分"
   ]
  },
  {
   "cell_type": "code",
   "execution_count": null,
   "metadata": {},
   "outputs": [],
   "source": [
    "# ============================多种度量值=========================\n",
    "scoring = ['precision_macro', 'recall_macro'] # precision_macro为精度，recall_macro为召回率\n",
    "scores = cross_validate(clf, X, y,scoring=scoring,cv=5, return_train_score=True)\n",
    "sorted(scores.keys())\n",
    "print('多种度量的测试结果：',scores)  # scores类型为字典。包含训练得分，拟合次数， score-times （得分次数）"
   ]
  },
  {
   "cell_type": "code",
   "execution_count": 9,
   "metadata": {},
   "outputs": [
    {
     "data": {
      "text/plain": [
       "array([0, 0, 0, 0, 0, 0, 0, 0, 0, 0, 0, 0, 0, 0, 0, 0, 0, 0, 0, 0, 0, 0,\n",
       "       0, 0, 0, 0, 0, 0, 0, 0, 0, 0, 0, 0, 0, 0, 0, 0, 0, 0, 0, 0, 0, 0,\n",
       "       0, 0, 0, 0, 0, 0, 1, 1, 1, 1, 1, 1, 1, 1, 1, 1, 1, 1, 1, 1, 1, 1,\n",
       "       1, 1, 1, 1, 1, 1, 1, 1, 1, 1, 1, 1, 1, 1, 1, 1, 1, 1, 1, 1, 1, 1,\n",
       "       1, 1, 1, 1, 1, 1, 1, 1, 1, 1, 1, 1, 2, 2, 2, 2, 2, 2, 2, 2, 2, 2,\n",
       "       2, 2, 2, 2, 2, 2, 2, 2, 2, 2, 2, 2, 2, 2, 2, 2, 2, 2, 2, 2, 2, 2,\n",
       "       2, 2, 2, 2, 2, 2, 2, 2, 2, 2, 2, 2, 2, 2, 2, 2, 2, 2])"
      ]
     },
     "execution_count": 9,
     "metadata": {},
     "output_type": "execute_result"
    }
   ],
   "source": [
    "y"
   ]
  },
  {
   "cell_type": "code",
   "execution_count": 4,
   "metadata": {},
   "outputs": [
    {
     "name": "stdout",
     "output_type": "stream",
     "text": [
      "准确率指标： 0.9866666666666667\n",
      "Kappa指标： 0.98\n",
      "混淆矩阵：\n",
      " [[50  0  0]\n",
      " [ 0 48  2]\n",
      " [ 0  0 50]]\n",
      "分类报告：\n",
      "              precision    recall  f1-score   support\n",
      "\n",
      "    class 0       1.00      1.00      1.00        50\n",
      "    class 1       1.00      0.96      0.98        50\n",
      "    class 2       0.96      1.00      0.98        50\n",
      "\n",
      "avg / total       0.99      0.99      0.99       150\n",
      "\n",
      "汉明损失： 0.013333333333333334\n",
      "Jaccard 相似系数： 0.9866666666666667\n"
     ]
    }
   ],
   "source": [
    "# ============================分类指标=========================\n",
    "clf = svm.SVC()  # 构建模型\n",
    "clf.fit(X, y) # 训练模型\n",
    "predict_y = clf.predict(X) # 预测数据\n",
    "\n",
    "print('准确率指标：',metrics.accuracy_score(y, predict_y))  # 计算准确率\n",
    "print('Kappa指标：',metrics.cohen_kappa_score(y, predict_y)) # Kappa 检验\n",
    "print('混淆矩阵：\\n',metrics.confusion_matrix(y, predict_y)) # 混淆矩阵\n",
    "\n",
    "target_names = ['class 0', 'class 1', 'class 2']\n",
    "print('分类报告：\\n',metrics.classification_report(y, predict_y, target_names=target_names))  # 分类报告\n",
    "print('汉明损失：',metrics.hamming_loss(y, predict_y))  #汉明损失 。在多分类中， 汉明损失对应于 y 和 predict_y 之间的汉明距离\n",
    "print('Jaccard 相似系数：',metrics.jaccard_similarity_score(y, predict_y))   # Jaccard 相似系数"
   ]
  },
  {
   "cell_type": "code",
   "execution_count": null,
   "metadata": {},
   "outputs": [],
   "source": [
    "# 下面的系数在在二分类中不需要使用average参数，在多分类中需要使用average参数进行多个二分类的平均\n",
    "# average可取值：macro（宏）、weighted（加权）、micro（微）、samples（样本）、None（返回每个类的分数）\n",
    "\n",
    "print('精度计算：',metrics.precision_score(y, predict_y, average='macro'))\n",
    "print('召回率：',metrics.recall_score(y, predict_y,average='micro'))\n",
    "print('F1值：',metrics.f1_score(y, predict_y,average='weighted'))\n",
    "\n",
    "print('FB值：',metrics.fbeta_score(y, predict_y,average='macro', beta=0.5))\n",
    "print('FB值：',metrics.fbeta_score(y, predict_y,average='macro', beta=1))\n",
    "print('FB值：',metrics.fbeta_score(y, predict_y,average='macro', beta=2))\n",
    "print('精确召回曲线：',metrics.precision_recall_fscore_support(y, predict_y,beta=0.5,average=None))\n",
    "print('零一损失：',metrics.zero_one_loss(y, predict_y))\n",
    "\n",
    "# ROC曲线(二分类)\n",
    "y1 = np.array([0, 0, 1, 1])  # 样本类标号\n",
    "y_scores = np.array([0.1, 0.4, 0.35, 0.8]) # 样本的得分（属于正样本的概率估计、或置信度值）\n",
    "fpr, tpr, thresholds = metrics.roc_curve(y1, y_scores, pos_label=1)\n",
    "print('假正率：',fpr)\n",
    "print('真正率：',tpr)\n",
    "print('门限：',thresholds)\n",
    "print('AUC值：',metrics.roc_auc_score(y1, y_scores))\n",
    "\n",
    "\n",
    "labels = np.array([0, 1, 2])  # 三种分类的类标号\n",
    "pred_decision = clf.decision_function(X)  # 计算样本属于每种分类的得分，所以pred_decision是一个3列的矩阵\n",
    "print('hinge_loss：',metrics.hinge_loss(y, pred_decision, labels = labels))\n",
    "\n",
    "# 逻辑回归损失，对真实分类和预测分类概率进行对比的损失\n",
    "y_true = [0, 0, 1, 1]\n",
    "y_pred = [[.9, .1], [.8, .2], [.3, .7], [.01, .99]]\n",
    "print('log_loss：',metrics.log_loss(y_true, y_pred))\n",
    "\n",
    "\n",
    "# ===============================回归度量==============================\n",
    "print(' ===============================回归度量==============================')\n",
    "diabetes = datasets.load_diabetes()  # 加载糖尿病数据集；用于回归问题\n",
    "X, y = diabetes.data, diabetes.target  # 442个样本，10个属性，数值输出\n",
    "\n",
    "model = LinearRegression(copy_X=True, fit_intercept=True, n_jobs=1, normalize=False)\n",
    "model.fit(X, y)   # 线性回归建模\n",
    "predicted_y = model.predict(X)  # 使用模型预测\n",
    "\n",
    "print('解释方差得分：',metrics.explained_variance_score(y, predicted_y))  # 解释方差得分\n",
    "print('平均绝对误差：',metrics.mean_absolute_error(y, predicted_y))  # 平均绝对误差\n",
    "print('均方误差：',metrics.mean_squared_error(y, predicted_y))  # 均方误差\n",
    "print('均方误差对数：',metrics.mean_squared_log_error(y, predicted_y))  # 均方误差对数\n",
    "print('中位绝对误差：',metrics.median_absolute_error(y, predicted_y))  # 中位绝对误差\n",
    "print('可决系数：',metrics.r2_score(y, predicted_y, multioutput='variance_weighted')) #可决系数\n",
    "print('可决系数：',metrics.r2_score(y, predicted_y, multioutput='raw_values')) #可决系数\n",
    "print('可决系数：',metrics.r2_score(y, predicted_y, multioutput='uniform_average')) #可决系数"
   ]
  }
 ],
 "metadata": {
  "kernelspec": {
   "display_name": "Python 3",
   "language": "python",
   "name": "python3"
  },
  "language_info": {
   "codemirror_mode": {
    "name": "ipython",
    "version": 3
   },
   "file_extension": ".py",
   "mimetype": "text/x-python",
   "name": "python",
   "nbconvert_exporter": "python",
   "pygments_lexer": "ipython3",
   "version": "3.6.5"
  }
 },
 "nbformat": 4,
 "nbformat_minor": 2
}
